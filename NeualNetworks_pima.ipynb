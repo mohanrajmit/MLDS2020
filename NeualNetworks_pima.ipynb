{
  "nbformat": 4,
  "nbformat_minor": 0,
  "metadata": {
    "colab": {
      "name": "Untitled47.ipynb",
      "provenance": [],
      "include_colab_link": true
    },
    "kernelspec": {
      "name": "python3",
      "display_name": "Python 3"
    },
    "accelerator": "GPU"
  },
  "cells": [
    {
      "cell_type": "markdown",
      "metadata": {
        "id": "view-in-github",
        "colab_type": "text"
      },
      "source": [
        "<a href=\"https://colab.research.google.com/github/mohanrajmit/MLDS2020/blob/master/NeualNetworks_pima.ipynb\" target=\"_parent\"><img src=\"https://colab.research.google.com/assets/colab-badge.svg\" alt=\"Open In Colab\"/></a>"
      ]
    },
    {
      "cell_type": "code",
      "metadata": {
        "id": "x6Dx0WExvsvG",
        "colab_type": "code",
        "outputId": "2a7e05c0-9483-432b-e563-a0b02446f612",
        "colab": {
          "base_uri": "https://localhost:8080/",
          "height": 97
        }
      },
      "source": [
        "from keras.models import Sequential\n",
        "from keras.layers import Dense\n",
        "import numpy"
      ],
      "execution_count": 0,
      "outputs": [
        {
          "output_type": "stream",
          "text": [
            "Using TensorFlow backend.\n"
          ],
          "name": "stderr"
        },
        {
          "output_type": "display_data",
          "data": {
            "text/html": [
              "<p style=\"color: red;\">\n",
              "The default version of TensorFlow in Colab will soon switch to TensorFlow 2.x.<br>\n",
              "We recommend you <a href=\"https://www.tensorflow.org/guide/migrate\" target=\"_blank\">upgrade</a> now \n",
              "or ensure your notebook will continue to use TensorFlow 1.x via the <code>%tensorflow_version 1.x</code> magic:\n",
              "<a href=\"https://colab.research.google.com/notebooks/tensorflow_version.ipynb\" target=\"_blank\">more info</a>.</p>\n"
            ],
            "text/plain": [
              "<IPython.core.display.HTML object>"
            ]
          },
          "metadata": {
            "tags": []
          }
        }
      ]
    },
    {
      "cell_type": "code",
      "metadata": {
        "id": "GpY1oyN9RHUU",
        "colab_type": "code",
        "outputId": "475b9c2e-ce4a-42cd-f0f7-1bfb5aba134a",
        "colab": {
          "base_uri": "https://localhost:8080/",
          "height": 138
        }
      },
      "source": [
        "!git clone https://github.com/mohanrajmit/Image-Read.git"
      ],
      "execution_count": 0,
      "outputs": [
        {
          "output_type": "stream",
          "text": [
            "Cloning into 'Image-Read'...\n",
            "remote: Enumerating objects: 6, done.\u001b[K\n",
            "remote: Counting objects:  16% (1/6)\u001b[K\rremote: Counting objects:  33% (2/6)\u001b[K\rremote: Counting objects:  50% (3/6)\u001b[K\rremote: Counting objects:  66% (4/6)\u001b[K\rremote: Counting objects:  83% (5/6)\u001b[K\rremote: Counting objects: 100% (6/6)\u001b[K\rremote: Counting objects: 100% (6/6), done.\u001b[K\n",
            "remote: Compressing objects: 100% (6/6), done.\u001b[K\n",
            "remote: Total 3059 (delta 1), reused 0 (delta 0), pack-reused 3053\u001b[K\n",
            "Receiving objects: 100% (3059/3059), 190.64 MiB | 50.73 MiB/s, done.\n",
            "Resolving deltas: 100% (18/18), done.\n"
          ],
          "name": "stdout"
        }
      ]
    },
    {
      "cell_type": "code",
      "metadata": {
        "id": "ToPr6CGcwA7t",
        "colab_type": "code",
        "colab": {}
      },
      "source": [
        "# fix random seed for reproducibility\n",
        "seed = 7\n",
        "numpy.random.seed(seed)\n",
        "# load pima indians dataset\n",
        "dataset = numpy.loadtxt(\"/content/Image-Read/pima-indians-diabetes.csv\", delimiter=\",\")\n",
        "# split into input (X) and output (Y) variables\n",
        "X = dataset[:,0:8]\n",
        "Y = dataset[:,8]"
      ],
      "execution_count": 0,
      "outputs": []
    },
    {
      "cell_type": "markdown",
      "metadata": {
        "id": "cTGz83SSwCCL",
        "colab_type": "text"
      },
      "source": [
        "#pima indian dataset\n"
      ]
    },
    {
      "cell_type": "code",
      "metadata": {
        "id": "ICmWK70QwFVN",
        "colab_type": "code",
        "outputId": "c660f53a-6077-48e6-9d07-5c9389179eda",
        "colab": {
          "base_uri": "https://localhost:8080/",
          "height": 176
        }
      },
      "source": [
        "# create model\n",
        "model = Sequential()\n",
        "model.add(Dense(12, input_dim=8, init='uniform', activation='relu'))\n",
        "model.add(Dense(8, init='uniform', activation='relu'))\n",
        "model.add(Dense(8, init='uniform', activation='relu'))\n",
        "model.add(Dense(1, init='uniform', activation='sigmoid'))\n",
        "# Compile model"
      ],
      "execution_count": 0,
      "outputs": [
        {
          "output_type": "stream",
          "text": [
            "/usr/local/lib/python3.6/dist-packages/ipykernel_launcher.py:2: UserWarning: Update your `Dense` call to the Keras 2 API: `Dense(12, input_dim=8, activation=\"relu\", kernel_initializer=\"uniform\")`\n",
            "  \n",
            "/usr/local/lib/python3.6/dist-packages/ipykernel_launcher.py:3: UserWarning: Update your `Dense` call to the Keras 2 API: `Dense(8, activation=\"relu\", kernel_initializer=\"uniform\")`\n",
            "  This is separate from the ipykernel package so we can avoid doing imports until\n",
            "/usr/local/lib/python3.6/dist-packages/ipykernel_launcher.py:4: UserWarning: Update your `Dense` call to the Keras 2 API: `Dense(8, activation=\"relu\", kernel_initializer=\"uniform\")`\n",
            "  after removing the cwd from sys.path.\n",
            "/usr/local/lib/python3.6/dist-packages/ipykernel_launcher.py:5: UserWarning: Update your `Dense` call to the Keras 2 API: `Dense(1, activation=\"sigmoid\", kernel_initializer=\"uniform\")`\n",
            "  \"\"\"\n"
          ],
          "name": "stderr"
        }
      ]
    },
    {
      "cell_type": "code",
      "metadata": {
        "id": "RewK5Qe6wRSQ",
        "colab_type": "code",
        "colab": {}
      },
      "source": [
        "model.compile(loss='binary_crossentropy', optimizer='adam', metrics=['accuracy'])\n"
      ],
      "execution_count": 0,
      "outputs": []
    },
    {
      "cell_type": "code",
      "metadata": {
        "id": "M3yzz9HlwUTl",
        "colab_type": "code",
        "outputId": "eb4b4ad9-6195-48b6-ef3f-8699e15a3cce",
        "colab": {
          "base_uri": "https://localhost:8080/",
          "height": 295
        }
      },
      "source": [
        "model.summary()"
      ],
      "execution_count": 0,
      "outputs": [
        {
          "output_type": "stream",
          "text": [
            "Model: \"sequential_3\"\n",
            "_________________________________________________________________\n",
            "Layer (type)                 Output Shape              Param #   \n",
            "=================================================================\n",
            "dense_7 (Dense)              (None, 12)                108       \n",
            "_________________________________________________________________\n",
            "dense_8 (Dense)              (None, 8)                 104       \n",
            "_________________________________________________________________\n",
            "dense_9 (Dense)              (None, 8)                 72        \n",
            "_________________________________________________________________\n",
            "dense_10 (Dense)             (None, 1)                 9         \n",
            "=================================================================\n",
            "Total params: 293\n",
            "Trainable params: 293\n",
            "Non-trainable params: 0\n",
            "_________________________________________________________________\n"
          ],
          "name": "stdout"
        }
      ]
    },
    {
      "cell_type": "code",
      "metadata": {
        "id": "FO2flHhEwV7k",
        "colab_type": "code",
        "outputId": "50d3e01e-a9a8-4028-a71d-cc301de3bf32",
        "colab": {
          "base_uri": "https://localhost:8080/",
          "height": 1000
        }
      },
      "source": [
        "# Fit the model\n",
        "model.fit(X, Y, nb_epoch=200, batch_size=50)\n"
      ],
      "execution_count": 0,
      "outputs": [
        {
          "output_type": "stream",
          "text": [
            "Epoch 1/200\n",
            "768/768 [==============================] - 0s 98us/step - loss: 0.5307 - acc: 0.7474\n",
            "Epoch 2/200\n",
            "768/768 [==============================] - 0s 75us/step - loss: 0.5244 - acc: 0.7357\n",
            "Epoch 3/200\n",
            "768/768 [==============================] - 0s 81us/step - loss: 0.5258 - acc: 0.7396\n"
          ],
          "name": "stdout"
        },
        {
          "output_type": "stream",
          "text": [
            "/usr/local/lib/python3.6/dist-packages/ipykernel_launcher.py:1: UserWarning: The `nb_epoch` argument in `fit` has been renamed `epochs`.\n",
            "  \"\"\"Entry point for launching an IPython kernel.\n"
          ],
          "name": "stderr"
        },
        {
          "output_type": "stream",
          "text": [
            "Epoch 4/200\n",
            "768/768 [==============================] - 0s 74us/step - loss: 0.5251 - acc: 0.7500\n",
            "Epoch 5/200\n",
            "768/768 [==============================] - 0s 71us/step - loss: 0.5239 - acc: 0.7461\n",
            "Epoch 6/200\n",
            "768/768 [==============================] - 0s 82us/step - loss: 0.5240 - acc: 0.7474\n",
            "Epoch 7/200\n",
            "768/768 [==============================] - 0s 73us/step - loss: 0.5240 - acc: 0.7474\n",
            "Epoch 8/200\n",
            "768/768 [==============================] - 0s 86us/step - loss: 0.5241 - acc: 0.7513\n",
            "Epoch 9/200\n",
            "768/768 [==============================] - 0s 69us/step - loss: 0.5269 - acc: 0.7448\n",
            "Epoch 10/200\n",
            "768/768 [==============================] - 0s 70us/step - loss: 0.5259 - acc: 0.7461\n",
            "Epoch 11/200\n",
            "768/768 [==============================] - 0s 86us/step - loss: 0.5247 - acc: 0.7526\n",
            "Epoch 12/200\n",
            "768/768 [==============================] - 0s 74us/step - loss: 0.5234 - acc: 0.7487\n",
            "Epoch 13/200\n",
            "768/768 [==============================] - 0s 71us/step - loss: 0.5233 - acc: 0.7565\n",
            "Epoch 14/200\n",
            "768/768 [==============================] - 0s 71us/step - loss: 0.5244 - acc: 0.7461\n",
            "Epoch 15/200\n",
            "768/768 [==============================] - 0s 69us/step - loss: 0.5237 - acc: 0.7487\n",
            "Epoch 16/200\n",
            "768/768 [==============================] - 0s 65us/step - loss: 0.5223 - acc: 0.7552\n",
            "Epoch 17/200\n",
            "768/768 [==============================] - 0s 71us/step - loss: 0.5222 - acc: 0.7461\n",
            "Epoch 18/200\n",
            "768/768 [==============================] - 0s 75us/step - loss: 0.5228 - acc: 0.7539\n",
            "Epoch 19/200\n",
            "768/768 [==============================] - 0s 82us/step - loss: 0.5255 - acc: 0.7435\n",
            "Epoch 20/200\n",
            "768/768 [==============================] - 0s 70us/step - loss: 0.5216 - acc: 0.7526\n",
            "Epoch 21/200\n",
            "768/768 [==============================] - 0s 69us/step - loss: 0.5213 - acc: 0.7552\n",
            "Epoch 22/200\n",
            "768/768 [==============================] - 0s 75us/step - loss: 0.5232 - acc: 0.7552\n",
            "Epoch 23/200\n",
            "768/768 [==============================] - 0s 69us/step - loss: 0.5231 - acc: 0.7500\n",
            "Epoch 24/200\n",
            "768/768 [==============================] - 0s 68us/step - loss: 0.5244 - acc: 0.7526\n",
            "Epoch 25/200\n",
            "768/768 [==============================] - 0s 70us/step - loss: 0.5216 - acc: 0.7539\n",
            "Epoch 26/200\n",
            "768/768 [==============================] - 0s 85us/step - loss: 0.5234 - acc: 0.7461\n",
            "Epoch 27/200\n",
            "768/768 [==============================] - 0s 80us/step - loss: 0.5238 - acc: 0.7513\n",
            "Epoch 28/200\n",
            "768/768 [==============================] - 0s 72us/step - loss: 0.5237 - acc: 0.7526\n",
            "Epoch 29/200\n",
            "768/768 [==============================] - 0s 79us/step - loss: 0.5213 - acc: 0.7474\n",
            "Epoch 30/200\n",
            "768/768 [==============================] - 0s 76us/step - loss: 0.5217 - acc: 0.7526\n",
            "Epoch 31/200\n",
            "768/768 [==============================] - 0s 69us/step - loss: 0.5238 - acc: 0.7513\n",
            "Epoch 32/200\n",
            "768/768 [==============================] - 0s 73us/step - loss: 0.5202 - acc: 0.7591\n",
            "Epoch 33/200\n",
            "768/768 [==============================] - 0s 77us/step - loss: 0.5204 - acc: 0.7500\n",
            "Epoch 34/200\n",
            "768/768 [==============================] - 0s 73us/step - loss: 0.5207 - acc: 0.7513\n",
            "Epoch 35/200\n",
            "768/768 [==============================] - 0s 70us/step - loss: 0.5236 - acc: 0.7461\n",
            "Epoch 36/200\n",
            "768/768 [==============================] - 0s 74us/step - loss: 0.5210 - acc: 0.7539\n",
            "Epoch 37/200\n",
            "768/768 [==============================] - 0s 74us/step - loss: 0.5220 - acc: 0.7448\n",
            "Epoch 38/200\n",
            "768/768 [==============================] - 0s 72us/step - loss: 0.5217 - acc: 0.7526\n",
            "Epoch 39/200\n",
            "768/768 [==============================] - 0s 72us/step - loss: 0.5223 - acc: 0.7513\n",
            "Epoch 40/200\n",
            "768/768 [==============================] - 0s 69us/step - loss: 0.5206 - acc: 0.7513\n",
            "Epoch 41/200\n",
            "768/768 [==============================] - 0s 79us/step - loss: 0.5224 - acc: 0.7500\n",
            "Epoch 42/200\n",
            "768/768 [==============================] - 0s 72us/step - loss: 0.5190 - acc: 0.7578\n",
            "Epoch 43/200\n",
            "768/768 [==============================] - 0s 77us/step - loss: 0.5199 - acc: 0.7539\n",
            "Epoch 44/200\n",
            "768/768 [==============================] - 0s 73us/step - loss: 0.5193 - acc: 0.7604\n",
            "Epoch 45/200\n",
            "768/768 [==============================] - 0s 73us/step - loss: 0.5206 - acc: 0.7539\n",
            "Epoch 46/200\n",
            "768/768 [==============================] - 0s 79us/step - loss: 0.5200 - acc: 0.7513\n",
            "Epoch 47/200\n",
            "768/768 [==============================] - 0s 72us/step - loss: 0.5216 - acc: 0.7500\n",
            "Epoch 48/200\n",
            "768/768 [==============================] - 0s 85us/step - loss: 0.5188 - acc: 0.7461\n",
            "Epoch 49/200\n",
            "768/768 [==============================] - 0s 84us/step - loss: 0.5195 - acc: 0.7578\n",
            "Epoch 50/200\n",
            "768/768 [==============================] - 0s 75us/step - loss: 0.5179 - acc: 0.7630\n",
            "Epoch 51/200\n",
            "768/768 [==============================] - 0s 81us/step - loss: 0.5210 - acc: 0.7539\n",
            "Epoch 52/200\n",
            "768/768 [==============================] - 0s 93us/step - loss: 0.5187 - acc: 0.7539\n",
            "Epoch 53/200\n",
            "768/768 [==============================] - 0s 85us/step - loss: 0.5187 - acc: 0.7578\n",
            "Epoch 54/200\n",
            "768/768 [==============================] - 0s 76us/step - loss: 0.5177 - acc: 0.7552\n",
            "Epoch 55/200\n",
            "768/768 [==============================] - 0s 80us/step - loss: 0.5198 - acc: 0.7487\n",
            "Epoch 56/200\n",
            "768/768 [==============================] - 0s 68us/step - loss: 0.5182 - acc: 0.7552\n",
            "Epoch 57/200\n",
            "768/768 [==============================] - 0s 72us/step - loss: 0.5196 - acc: 0.7565\n",
            "Epoch 58/200\n",
            "768/768 [==============================] - 0s 68us/step - loss: 0.5214 - acc: 0.7487\n",
            "Epoch 59/200\n",
            "768/768 [==============================] - 0s 73us/step - loss: 0.5174 - acc: 0.7539\n",
            "Epoch 60/200\n",
            "768/768 [==============================] - 0s 88us/step - loss: 0.5197 - acc: 0.7487\n",
            "Epoch 61/200\n",
            "768/768 [==============================] - 0s 72us/step - loss: 0.5181 - acc: 0.7539\n",
            "Epoch 62/200\n",
            "768/768 [==============================] - 0s 75us/step - loss: 0.5200 - acc: 0.7513\n",
            "Epoch 63/200\n",
            "768/768 [==============================] - 0s 69us/step - loss: 0.5269 - acc: 0.7513\n",
            "Epoch 64/200\n",
            "768/768 [==============================] - 0s 73us/step - loss: 0.5186 - acc: 0.7565\n",
            "Epoch 65/200\n",
            "768/768 [==============================] - 0s 71us/step - loss: 0.5161 - acc: 0.7565\n",
            "Epoch 66/200\n",
            "768/768 [==============================] - 0s 74us/step - loss: 0.5215 - acc: 0.7539\n",
            "Epoch 67/200\n",
            "768/768 [==============================] - 0s 77us/step - loss: 0.5189 - acc: 0.7500\n",
            "Epoch 68/200\n",
            "768/768 [==============================] - 0s 72us/step - loss: 0.5193 - acc: 0.7565\n",
            "Epoch 69/200\n",
            "768/768 [==============================] - 0s 75us/step - loss: 0.5192 - acc: 0.7513\n",
            "Epoch 70/200\n",
            "768/768 [==============================] - 0s 74us/step - loss: 0.5201 - acc: 0.7539\n",
            "Epoch 71/200\n",
            "768/768 [==============================] - 0s 68us/step - loss: 0.5222 - acc: 0.7526\n",
            "Epoch 72/200\n",
            "768/768 [==============================] - 0s 73us/step - loss: 0.5210 - acc: 0.7487\n",
            "Epoch 73/200\n",
            "768/768 [==============================] - 0s 70us/step - loss: 0.5204 - acc: 0.7578\n",
            "Epoch 74/200\n",
            "768/768 [==============================] - 0s 70us/step - loss: 0.5217 - acc: 0.7513\n",
            "Epoch 75/200\n",
            "768/768 [==============================] - 0s 73us/step - loss: 0.5160 - acc: 0.7617\n",
            "Epoch 76/200\n",
            "768/768 [==============================] - 0s 69us/step - loss: 0.5188 - acc: 0.7513\n",
            "Epoch 77/200\n",
            "768/768 [==============================] - 0s 71us/step - loss: 0.5186 - acc: 0.7526\n",
            "Epoch 78/200\n",
            "768/768 [==============================] - 0s 90us/step - loss: 0.5164 - acc: 0.7591\n",
            "Epoch 79/200\n",
            "768/768 [==============================] - 0s 69us/step - loss: 0.5169 - acc: 0.7552\n",
            "Epoch 80/200\n",
            "768/768 [==============================] - 0s 67us/step - loss: 0.5187 - acc: 0.7578\n",
            "Epoch 81/200\n",
            "768/768 [==============================] - 0s 74us/step - loss: 0.5194 - acc: 0.7552\n",
            "Epoch 82/200\n",
            "768/768 [==============================] - 0s 74us/step - loss: 0.5167 - acc: 0.7604\n",
            "Epoch 83/200\n",
            "768/768 [==============================] - 0s 72us/step - loss: 0.5186 - acc: 0.7539\n",
            "Epoch 84/200\n",
            "768/768 [==============================] - 0s 74us/step - loss: 0.5187 - acc: 0.7604\n",
            "Epoch 85/200\n",
            "768/768 [==============================] - 0s 81us/step - loss: 0.5179 - acc: 0.7565\n",
            "Epoch 86/200\n",
            "768/768 [==============================] - 0s 82us/step - loss: 0.5178 - acc: 0.7513\n",
            "Epoch 87/200\n",
            "768/768 [==============================] - 0s 75us/step - loss: 0.5179 - acc: 0.7526\n",
            "Epoch 88/200\n",
            "768/768 [==============================] - 0s 71us/step - loss: 0.5158 - acc: 0.7630\n",
            "Epoch 89/200\n",
            "768/768 [==============================] - 0s 74us/step - loss: 0.5212 - acc: 0.7539\n",
            "Epoch 90/200\n",
            "768/768 [==============================] - 0s 72us/step - loss: 0.5155 - acc: 0.7604\n",
            "Epoch 91/200\n",
            "768/768 [==============================] - 0s 71us/step - loss: 0.5149 - acc: 0.7643\n",
            "Epoch 92/200\n",
            "768/768 [==============================] - 0s 69us/step - loss: 0.5164 - acc: 0.7604\n",
            "Epoch 93/200\n",
            "768/768 [==============================] - 0s 62us/step - loss: 0.5152 - acc: 0.7630\n",
            "Epoch 94/200\n",
            "768/768 [==============================] - 0s 69us/step - loss: 0.5145 - acc: 0.7552\n",
            "Epoch 95/200\n",
            "768/768 [==============================] - 0s 69us/step - loss: 0.5164 - acc: 0.7565\n",
            "Epoch 96/200\n",
            "768/768 [==============================] - 0s 87us/step - loss: 0.5187 - acc: 0.7461\n",
            "Epoch 97/200\n",
            "768/768 [==============================] - 0s 73us/step - loss: 0.5148 - acc: 0.7656\n",
            "Epoch 98/200\n",
            "768/768 [==============================] - 0s 72us/step - loss: 0.5163 - acc: 0.7591\n",
            "Epoch 99/200\n",
            "768/768 [==============================] - 0s 71us/step - loss: 0.5148 - acc: 0.7630\n",
            "Epoch 100/200\n",
            "768/768 [==============================] - 0s 79us/step - loss: 0.5153 - acc: 0.7682\n",
            "Epoch 101/200\n",
            "768/768 [==============================] - 0s 68us/step - loss: 0.5172 - acc: 0.7669\n",
            "Epoch 102/200\n",
            "768/768 [==============================] - 0s 68us/step - loss: 0.5211 - acc: 0.7539\n",
            "Epoch 103/200\n",
            "768/768 [==============================] - 0s 72us/step - loss: 0.5180 - acc: 0.7617\n",
            "Epoch 104/200\n",
            "768/768 [==============================] - 0s 88us/step - loss: 0.5163 - acc: 0.7604\n",
            "Epoch 105/200\n",
            "768/768 [==============================] - 0s 75us/step - loss: 0.5220 - acc: 0.7513\n",
            "Epoch 106/200\n",
            "768/768 [==============================] - 0s 71us/step - loss: 0.5229 - acc: 0.7565\n",
            "Epoch 107/200\n",
            "768/768 [==============================] - 0s 69us/step - loss: 0.5208 - acc: 0.7604\n",
            "Epoch 108/200\n",
            "768/768 [==============================] - 0s 70us/step - loss: 0.5162 - acc: 0.7552\n",
            "Epoch 109/200\n",
            "768/768 [==============================] - 0s 73us/step - loss: 0.5210 - acc: 0.7617\n",
            "Epoch 110/200\n",
            "768/768 [==============================] - 0s 81us/step - loss: 0.5153 - acc: 0.7630\n",
            "Epoch 111/200\n",
            "768/768 [==============================] - 0s 76us/step - loss: 0.5135 - acc: 0.7656\n",
            "Epoch 112/200\n",
            "768/768 [==============================] - 0s 81us/step - loss: 0.5229 - acc: 0.7604\n",
            "Epoch 113/200\n",
            "768/768 [==============================] - 0s 74us/step - loss: 0.5200 - acc: 0.7578\n",
            "Epoch 114/200\n",
            "768/768 [==============================] - 0s 77us/step - loss: 0.5159 - acc: 0.7643\n",
            "Epoch 115/200\n",
            "768/768 [==============================] - 0s 72us/step - loss: 0.5181 - acc: 0.7565\n",
            "Epoch 116/200\n",
            "768/768 [==============================] - 0s 78us/step - loss: 0.5167 - acc: 0.7578\n",
            "Epoch 117/200\n",
            "768/768 [==============================] - 0s 75us/step - loss: 0.5175 - acc: 0.7656\n",
            "Epoch 118/200\n",
            "768/768 [==============================] - 0s 72us/step - loss: 0.5123 - acc: 0.7695\n",
            "Epoch 119/200\n",
            "768/768 [==============================] - 0s 70us/step - loss: 0.5122 - acc: 0.7721\n",
            "Epoch 120/200\n",
            "768/768 [==============================] - 0s 83us/step - loss: 0.5183 - acc: 0.7656\n",
            "Epoch 121/200\n",
            "768/768 [==============================] - 0s 81us/step - loss: 0.5132 - acc: 0.7617\n",
            "Epoch 122/200\n",
            "768/768 [==============================] - 0s 73us/step - loss: 0.5142 - acc: 0.7747\n",
            "Epoch 123/200\n",
            "768/768 [==============================] - 0s 73us/step - loss: 0.5161 - acc: 0.7643\n",
            "Epoch 124/200\n",
            "768/768 [==============================] - 0s 68us/step - loss: 0.5126 - acc: 0.7695\n",
            "Epoch 125/200\n",
            "768/768 [==============================] - 0s 71us/step - loss: 0.5127 - acc: 0.7656\n",
            "Epoch 126/200\n",
            "768/768 [==============================] - 0s 69us/step - loss: 0.5122 - acc: 0.7630\n",
            "Epoch 127/200\n",
            "768/768 [==============================] - 0s 68us/step - loss: 0.5193 - acc: 0.7656\n",
            "Epoch 128/200\n",
            "768/768 [==============================] - 0s 71us/step - loss: 0.5190 - acc: 0.7591\n",
            "Epoch 129/200\n",
            "768/768 [==============================] - 0s 74us/step - loss: 0.5163 - acc: 0.7604\n",
            "Epoch 130/200\n",
            "768/768 [==============================] - 0s 73us/step - loss: 0.5155 - acc: 0.7578\n",
            "Epoch 131/200\n",
            "768/768 [==============================] - 0s 87us/step - loss: 0.5122 - acc: 0.7682\n",
            "Epoch 132/200\n",
            "768/768 [==============================] - 0s 79us/step - loss: 0.5138 - acc: 0.7591\n",
            "Epoch 133/200\n",
            "768/768 [==============================] - 0s 68us/step - loss: 0.5119 - acc: 0.7734\n",
            "Epoch 134/200\n",
            "768/768 [==============================] - 0s 71us/step - loss: 0.5143 - acc: 0.7669\n",
            "Epoch 135/200\n",
            "768/768 [==============================] - 0s 71us/step - loss: 0.5110 - acc: 0.7669\n",
            "Epoch 136/200\n",
            "768/768 [==============================] - 0s 68us/step - loss: 0.5134 - acc: 0.7630\n",
            "Epoch 137/200\n",
            "768/768 [==============================] - 0s 74us/step - loss: 0.5128 - acc: 0.7604\n",
            "Epoch 138/200\n",
            "768/768 [==============================] - 0s 72us/step - loss: 0.5147 - acc: 0.7591\n",
            "Epoch 139/200\n",
            "768/768 [==============================] - 0s 68us/step - loss: 0.5116 - acc: 0.7643\n",
            "Epoch 140/200\n",
            "768/768 [==============================] - 0s 70us/step - loss: 0.5196 - acc: 0.7552\n",
            "Epoch 141/200\n",
            "768/768 [==============================] - 0s 72us/step - loss: 0.5106 - acc: 0.7682\n",
            "Epoch 142/200\n",
            "768/768 [==============================] - 0s 76us/step - loss: 0.5152 - acc: 0.7669\n",
            "Epoch 143/200\n",
            "768/768 [==============================] - 0s 76us/step - loss: 0.5179 - acc: 0.7617\n",
            "Epoch 144/200\n",
            "768/768 [==============================] - 0s 76us/step - loss: 0.5176 - acc: 0.7591\n",
            "Epoch 145/200\n",
            "768/768 [==============================] - 0s 67us/step - loss: 0.5186 - acc: 0.7578\n",
            "Epoch 146/200\n",
            "768/768 [==============================] - 0s 67us/step - loss: 0.5161 - acc: 0.7565\n",
            "Epoch 147/200\n",
            "768/768 [==============================] - 0s 73us/step - loss: 0.5120 - acc: 0.7656\n",
            "Epoch 148/200\n",
            "768/768 [==============================] - 0s 71us/step - loss: 0.5162 - acc: 0.7604\n",
            "Epoch 149/200\n",
            "768/768 [==============================] - 0s 87us/step - loss: 0.5112 - acc: 0.7643\n",
            "Epoch 150/200\n",
            "768/768 [==============================] - 0s 75us/step - loss: 0.5099 - acc: 0.7617\n",
            "Epoch 151/200\n",
            "768/768 [==============================] - 0s 75us/step - loss: 0.5102 - acc: 0.7604\n",
            "Epoch 152/200\n",
            "768/768 [==============================] - 0s 81us/step - loss: 0.5163 - acc: 0.7578\n",
            "Epoch 153/200\n",
            "768/768 [==============================] - 0s 72us/step - loss: 0.5145 - acc: 0.7552\n",
            "Epoch 154/200\n",
            "768/768 [==============================] - 0s 71us/step - loss: 0.5143 - acc: 0.7630\n",
            "Epoch 155/200\n",
            "768/768 [==============================] - 0s 72us/step - loss: 0.5131 - acc: 0.7656\n",
            "Epoch 156/200\n",
            "768/768 [==============================] - 0s 70us/step - loss: 0.5171 - acc: 0.7578\n",
            "Epoch 157/200\n",
            "768/768 [==============================] - 0s 89us/step - loss: 0.5100 - acc: 0.7617\n",
            "Epoch 158/200\n",
            "768/768 [==============================] - 0s 84us/step - loss: 0.5116 - acc: 0.7630\n",
            "Epoch 159/200\n",
            "768/768 [==============================] - 0s 73us/step - loss: 0.5127 - acc: 0.7591\n",
            "Epoch 160/200\n",
            "768/768 [==============================] - 0s 70us/step - loss: 0.5092 - acc: 0.7656\n",
            "Epoch 161/200\n",
            "768/768 [==============================] - 0s 69us/step - loss: 0.5219 - acc: 0.7461\n",
            "Epoch 162/200\n",
            "768/768 [==============================] - 0s 76us/step - loss: 0.5096 - acc: 0.7669\n",
            "Epoch 163/200\n",
            "768/768 [==============================] - 0s 83us/step - loss: 0.5284 - acc: 0.7578\n",
            "Epoch 164/200\n",
            "768/768 [==============================] - 0s 83us/step - loss: 0.5148 - acc: 0.7578\n",
            "Epoch 165/200\n",
            "768/768 [==============================] - 0s 75us/step - loss: 0.5129 - acc: 0.7643\n",
            "Epoch 166/200\n",
            "768/768 [==============================] - 0s 88us/step - loss: 0.5095 - acc: 0.7630\n",
            "Epoch 167/200\n",
            "768/768 [==============================] - 0s 76us/step - loss: 0.5117 - acc: 0.7604\n",
            "Epoch 168/200\n",
            "768/768 [==============================] - 0s 95us/step - loss: 0.5163 - acc: 0.7526\n",
            "Epoch 169/200\n",
            "768/768 [==============================] - 0s 82us/step - loss: 0.5180 - acc: 0.7604\n",
            "Epoch 170/200\n",
            "768/768 [==============================] - 0s 85us/step - loss: 0.5120 - acc: 0.7682\n",
            "Epoch 171/200\n",
            "768/768 [==============================] - 0s 84us/step - loss: 0.5115 - acc: 0.7734\n",
            "Epoch 172/200\n",
            "768/768 [==============================] - 0s 79us/step - loss: 0.5134 - acc: 0.7552\n",
            "Epoch 173/200\n",
            "768/768 [==============================] - 0s 81us/step - loss: 0.5140 - acc: 0.7617\n",
            "Epoch 174/200\n",
            "768/768 [==============================] - 0s 76us/step - loss: 0.5109 - acc: 0.7656\n",
            "Epoch 175/200\n",
            "768/768 [==============================] - 0s 71us/step - loss: 0.5100 - acc: 0.7682\n",
            "Epoch 176/200\n",
            "768/768 [==============================] - 0s 78us/step - loss: 0.5097 - acc: 0.7695\n",
            "Epoch 177/200\n",
            "768/768 [==============================] - 0s 82us/step - loss: 0.5091 - acc: 0.7721\n",
            "Epoch 178/200\n",
            "768/768 [==============================] - 0s 73us/step - loss: 0.5155 - acc: 0.7487\n",
            "Epoch 179/200\n",
            "768/768 [==============================] - 0s 81us/step - loss: 0.5104 - acc: 0.7656\n",
            "Epoch 180/200\n",
            "768/768 [==============================] - 0s 87us/step - loss: 0.5108 - acc: 0.7695\n",
            "Epoch 181/200\n",
            "768/768 [==============================] - 0s 80us/step - loss: 0.5131 - acc: 0.7604\n",
            "Epoch 182/200\n",
            "768/768 [==============================] - 0s 74us/step - loss: 0.5186 - acc: 0.7591\n",
            "Epoch 183/200\n",
            "768/768 [==============================] - 0s 74us/step - loss: 0.5124 - acc: 0.7565\n",
            "Epoch 184/200\n",
            "768/768 [==============================] - 0s 70us/step - loss: 0.5101 - acc: 0.7643\n",
            "Epoch 185/200\n",
            "768/768 [==============================] - 0s 71us/step - loss: 0.5204 - acc: 0.7500\n",
            "Epoch 186/200\n",
            "768/768 [==============================] - 0s 80us/step - loss: 0.5121 - acc: 0.7721\n",
            "Epoch 187/200\n",
            "768/768 [==============================] - 0s 74us/step - loss: 0.5090 - acc: 0.7591\n",
            "Epoch 188/200\n",
            "768/768 [==============================] - 0s 76us/step - loss: 0.5113 - acc: 0.7669\n",
            "Epoch 189/200\n",
            "768/768 [==============================] - 0s 71us/step - loss: 0.5092 - acc: 0.7643\n",
            "Epoch 190/200\n",
            "768/768 [==============================] - 0s 70us/step - loss: 0.5098 - acc: 0.7669\n",
            "Epoch 191/200\n",
            "768/768 [==============================] - 0s 68us/step - loss: 0.5142 - acc: 0.7578\n",
            "Epoch 192/200\n",
            "768/768 [==============================] - 0s 75us/step - loss: 0.5095 - acc: 0.7708\n",
            "Epoch 193/200\n",
            "768/768 [==============================] - 0s 72us/step - loss: 0.5121 - acc: 0.7591\n",
            "Epoch 194/200\n",
            "768/768 [==============================] - 0s 71us/step - loss: 0.5099 - acc: 0.7617\n",
            "Epoch 195/200\n",
            "768/768 [==============================] - 0s 69us/step - loss: 0.5070 - acc: 0.7656\n",
            "Epoch 196/200\n",
            "768/768 [==============================] - 0s 69us/step - loss: 0.5103 - acc: 0.7617\n",
            "Epoch 197/200\n",
            "768/768 [==============================] - 0s 74us/step - loss: 0.5074 - acc: 0.7669\n",
            "Epoch 198/200\n",
            "768/768 [==============================] - 0s 68us/step - loss: 0.5064 - acc: 0.7669\n",
            "Epoch 199/200\n",
            "768/768 [==============================] - 0s 71us/step - loss: 0.5067 - acc: 0.7656\n",
            "Epoch 200/200\n",
            "768/768 [==============================] - 0s 71us/step - loss: 0.5066 - acc: 0.7656\n"
          ],
          "name": "stdout"
        },
        {
          "output_type": "execute_result",
          "data": {
            "text/plain": [
              "<keras.callbacks.History at 0x7f9054644ef0>"
            ]
          },
          "metadata": {
            "tags": []
          },
          "execution_count": 22
        }
      ]
    },
    {
      "cell_type": "code",
      "metadata": {
        "id": "p9XeNsOVxZXQ",
        "colab_type": "code",
        "colab": {}
      },
      "source": [
        ""
      ],
      "execution_count": 0,
      "outputs": []
    }
  ]
}